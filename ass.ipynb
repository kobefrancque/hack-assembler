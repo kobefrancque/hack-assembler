{
 "cells": [
  {
   "cell_type": "code",
   "execution_count": null,
   "id": "463c72d0",
   "metadata": {},
   "outputs": [],
   "source": [
    "dest_map = {\n",
    "    None: '000',\n",
    "    'M': '001',\n",
    "    'D': '010',\n",
    "    'MD': '011',\n",
    "    'A': '100',\n",
    "    'AM': '101',\n",
    "    'AD': '110',\n",
    "    'AMD': '111'\n",
    "}"
   ]
  },
  {
   "cell_type": "code",
   "execution_count": 1,
   "id": "a0458120",
   "metadata": {},
   "outputs": [],
   "source": [
    "class Parser:\n",
    "    def __init__(self, filename):\n",
    "        with open(filename, 'r') as f:\n",
    "            self.lines = f.readlines()\n",
    "        self.index = 0\n",
    "        self.current_line = None\n",
    "        self.commands = [line.strip().replace(' ', '') for line in self.lines if not line.startswith('//') and line.strip() != '']\n",
    "\n",
    "    def has_more_commands(self):\n",
    "        return self.index < len(self.commands)\n",
    "    \n",
    "    def advance(self):\n",
    "        if self.has_more_commands():\n",
    "            self.current_line = self.commands[self.index]\n",
    "            self.index += 1\n",
    "\n",
    "    def command_type(self):\n",
    "        if self.current_line.startswith('@'):\n",
    "            return 'A_COMMAND'\n",
    "        if any(char in self.current_line for char in ['=', ';']):\n",
    "            return 'C_COMMAND'\n",
    "        else:\n",
    "            return 'L_COMMAND'\n",
    "        \n",
    "    def symbol(self):\n",
    "        if self.command_type() == 'A_COMMAND':\n",
    "            return self.current_line.strip('@')\n",
    "        elif self.command_type() == 'L_COMMAND':\n",
    "            return self.current_line.strip('()')\n",
    "        \n",
    "    def dest(self):\n",
    "        if self.command_type() == 'C_COMMAND':\n",
    "            if '=' in self.current_line:\n",
    "                return self.current_line.split('=')[0]\n",
    "            else:\n",
    "                return None\n",
    "            \n",
    "    def comp(self):\n",
    "        if self.command_type() == 'C_COMMAND':\n",
    "            if ';' and '=' in self.current_line:\n",
    "                return self.current_line.split('=')[1].split(';')[0]\n",
    "            elif '=' in self.current_line:\n",
    "                return self.current_line.split('=')\n",
    "            elif ';' in self.current_line:\n",
    "                return self.current_line.split(';')\n",
    "            else:\n",
    "                return self.current_line"
   ]
  },
  {
   "cell_type": "code",
   "execution_count": 309,
   "id": "acff3206",
   "metadata": {},
   "outputs": [],
   "source": [
    "parser = Parser('Add.asm')"
   ]
  },
  {
   "cell_type": "code",
   "execution_count": 312,
   "id": "a5a62f12",
   "metadata": {},
   "outputs": [],
   "source": [
    "parser.advance()"
   ]
  },
  {
   "cell_type": "code",
   "execution_count": 313,
   "id": "9ca42f3f",
   "metadata": {},
   "outputs": [
    {
     "data": {
      "text/plain": [
       "'D=A'"
      ]
     },
     "execution_count": 313,
     "metadata": {},
     "output_type": "execute_result"
    }
   ],
   "source": [
    "parser.current_line"
   ]
  },
  {
   "cell_type": "code",
   "execution_count": 314,
   "id": "2256e1ee",
   "metadata": {},
   "outputs": [
    {
     "data": {
      "text/plain": [
       "'C_COMMAND'"
      ]
     },
     "execution_count": 314,
     "metadata": {},
     "output_type": "execute_result"
    }
   ],
   "source": [
    "parser.command_type()"
   ]
  }
 ],
 "metadata": {
  "kernelspec": {
   "display_name": ".venv",
   "language": "python",
   "name": "python3"
  },
  "language_info": {
   "codemirror_mode": {
    "name": "ipython",
    "version": 3
   },
   "file_extension": ".py",
   "mimetype": "text/x-python",
   "name": "python",
   "nbconvert_exporter": "python",
   "pygments_lexer": "ipython3",
   "version": "3.12.3"
  }
 },
 "nbformat": 4,
 "nbformat_minor": 5
}
