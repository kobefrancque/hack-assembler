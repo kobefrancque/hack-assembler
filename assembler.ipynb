{
 "cells": [
  {
   "cell_type": "code",
   "execution_count": 9,
   "id": "a0458120",
   "metadata": {},
   "outputs": [],
   "source": [
    "class Parser:\n",
    "    def __init__(self, filename):\n",
    "        with open(filename, 'r') as f:\n",
    "            self.lines = f.readlines()\n",
    "        self.index = 1\n",
    "        self.current_line = None\n",
    "        self.commands = [line.strip().replace(' ', '') for line in self.lines if not line.startswith('//') and line.strip() != '']\n",
    "\n",
    "    def has_more_commands(self):\n",
    "        return self.index < len(self.commands)\n",
    "    \n",
    "    def advance(self):\n",
    "        if self.has_more_commands():\n",
    "            self.current_line = self.commands[self.index]\n",
    "            self.index += 1\n",
    "\n",
    "    def command_type(self):\n",
    "        if self.current_line.startswith('@'):\n",
    "            return 'A_COMMAND'\n",
    "        if any(char in self.current_line for char in ['=', ';']):\n",
    "            return 'C_COMMAND'\n",
    "        else:\n",
    "            return 'L_COMMAND'\n",
    "        \n",
    "    def symbol(self):\n",
    "        if self.command_type() == 'A_COMMAND':\n",
    "            return self.current_line.strip('@')\n",
    "        elif self.command_type() == 'L_COMMAND':\n",
    "            return self.current_line.strip('()')\n",
    "        \n",
    "    def dest(self):\n",
    "        if self.command_type() == 'C_COMMAND':\n",
    "            if '=' in self.current_line:\n",
    "                return self.current_line.split('=')[0]\n",
    "            else:\n",
    "                return None\n",
    "            \n",
    "    def comp(self):\n",
    "        if self.command_type() == 'C_COMMAND':\n",
    "            if ';' and '=' in self.current_line:\n",
    "                return self.current_line.split('=')[1].split(';')[0]\n",
    "            elif '=' in self.current_line:\n",
    "                return self.current_line.split('=')\n",
    "            elif ';' in self.current_line:\n",
    "                return self.current_line.split(';')\n",
    "            else:\n",
    "                return self.current_line\n",
    "            \n",
    "    def jump(self):\n",
    "        if self.command_type() == 'C_COMMAND':\n",
    "            if ';' in self.current_line:\n",
    "                return self.current_line.split(';')[1]\n",
    "            else:\n",
    "                return None"
   ]
  },
  {
   "cell_type": "code",
   "execution_count": 53,
   "id": "37f6c7d5",
   "metadata": {},
   "outputs": [],
   "source": [
    "class Code:\n",
    "    def __init__(self):\n",
    "        self.dest_map = {\n",
    "            None: '000',\n",
    "            'M': '001',\n",
    "            'D': '010',\n",
    "            'MD': '011',\n",
    "            'A': '100',\n",
    "            'AM': '101',\n",
    "            'AD': '110',\n",
    "            'AMD': '111'\n",
    "        }\n",
    "\n",
    "        self.comp_map = {\n",
    "            '0': '0101010',\n",
    "            '1': '0111111',\n",
    "            '-1': '0111010',\n",
    "            'D': '0001100',\n",
    "            'A': '0110000',\n",
    "            'M': '1110000',\n",
    "            '!D': '0001101',\n",
    "            '!A': '0110001',\n",
    "            '!M': '1110001',\n",
    "            '-D': '0001111',\n",
    "            '-A': '0110011',\n",
    "            '-M': '1110011',\n",
    "            'D+1': '0011111',\n",
    "            'A+1': '0110111',\n",
    "            'M+1': '1110111',\n",
    "            'D-1': '0001110',\n",
    "            'A-1': '0110010',\n",
    "            'M-1': '1110010',\n",
    "            'D+A': '0000010',\n",
    "            'D+M': '1000010',\n",
    "            'D-A': '0010011',\n",
    "            'D-M': '1010011',\n",
    "            'A-D': '0000111',\n",
    "            'M-D': '1000111',\n",
    "            'D&A': '0000000',\n",
    "            'D&M': '1000000',\n",
    "            'D|A': '0010101',\n",
    "            'D|M': '1010101'\n",
    "        }\n",
    "\n",
    "        self.jump_map = {\n",
    "            None: '000',\n",
    "            'JGT': '001',\n",
    "            'JEQ': '010',\n",
    "            'JGE': '011',\n",
    "            'JLT': '100',\n",
    "            'JNE': '101',\n",
    "            'JLE': '110',\n",
    "            'JMP': '111'\n",
    "        }\n",
    "\n",
    "    def dest(self, symbol):\n",
    "        return self.dest_map[symbol]\n",
    "    \n",
    "    def comp(self, symbol):\n",
    "        return self.comp_map[symbol]\n",
    "    \n",
    "    def jump(self, symbol):\n",
    "        return self.jump_map[symbol]\n"
   ]
  },
  {
   "cell_type": "code",
   "execution_count": 54,
   "id": "acff3206",
   "metadata": {},
   "outputs": [],
   "source": [
    "parser = Parser('Add.asm')"
   ]
  },
  {
   "cell_type": "code",
   "execution_count": 55,
   "id": "a5a62f12",
   "metadata": {},
   "outputs": [],
   "source": [
    "parser.advance()"
   ]
  },
  {
   "cell_type": "code",
   "execution_count": 56,
   "id": "82ee5a8c",
   "metadata": {},
   "outputs": [],
   "source": [
    "coder = Code()"
   ]
  },
  {
   "cell_type": "code",
   "execution_count": 57,
   "id": "28214bcd",
   "metadata": {},
   "outputs": [
    {
     "data": {
      "text/plain": [
       "'010'"
      ]
     },
     "execution_count": 57,
     "metadata": {},
     "output_type": "execute_result"
    }
   ],
   "source": [
    "coder.dest(parser.dest())"
   ]
  },
  {
   "cell_type": "code",
   "execution_count": null,
   "id": "9ca42f3f",
   "metadata": {},
   "outputs": [
    {
     "data": {
      "text/plain": [
       "'D=A'"
      ]
     },
     "execution_count": 59,
     "metadata": {},
     "output_type": "execute_result"
    }
   ],
   "source": [
    "parser.current_line"
   ]
  },
  {
   "cell_type": "code",
   "execution_count": 45,
   "id": "204f71e9",
   "metadata": {},
   "outputs": [
    {
     "data": {
      "text/plain": [
       "'M'"
      ]
     },
     "execution_count": 45,
     "metadata": {},
     "output_type": "execute_result"
    }
   ],
   "source": [
    "parser.dest()"
   ]
  }
 ],
 "metadata": {
  "kernelspec": {
   "display_name": ".venv",
   "language": "python",
   "name": "python3"
  },
  "language_info": {
   "codemirror_mode": {
    "name": "ipython",
    "version": 3
   },
   "file_extension": ".py",
   "mimetype": "text/x-python",
   "name": "python",
   "nbconvert_exporter": "python",
   "pygments_lexer": "ipython3",
   "version": "3.12.3"
  }
 },
 "nbformat": 4,
 "nbformat_minor": 5
}
